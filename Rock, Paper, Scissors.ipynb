{
 "cells": [
  {
   "cell_type": "code",
   "execution_count": 48,
   "id": "43bbda9c",
   "metadata": {},
   "outputs": [
    {
     "name": "stdout",
     "output_type": "stream",
     "text": [
      "What do you choose ? \n",
      " Type 0 for Rock, 1 for Paper or 2 for Scissors :\n",
      " 0\n",
      "You have choosen: \n",
      "\n",
      "    _______\n",
      "---'   ____)\n",
      "      (_____)\n",
      "      (_____)\n",
      "      (____)\n",
      "---.__(___)\n",
      "\n",
      "Computer Choose: \n",
      "\n",
      "    _______\n",
      "---'   ____)____\n",
      "          ______)\n",
      "          _______)\n",
      "         _______)\n",
      "---.__________)\n",
      "\n",
      "Computer choose : 1\n",
      "You Loose\n"
     ]
    }
   ],
   "source": [
    "# 0 for Rock , 1 for Paper or 2 for Scissors\n",
    "\n",
    "''' Rocks wins against Scissors.\n",
    "    Scissors wins against Paper.\n",
    "    Paper wins against Rock.'''\n",
    "import random\n",
    "rock = '''\n",
    "    _______\n",
    "---'   ____)\n",
    "      (_____)\n",
    "      (_____)\n",
    "      (____)\n",
    "---.__(___)\n",
    "'''\n",
    "\n",
    "paper = '''\n",
    "    _______\n",
    "---'   ____)____\n",
    "          ______)\n",
    "          _______)\n",
    "         _______)\n",
    "---.__________)\n",
    "'''\n",
    "\n",
    "scissors = '''\n",
    "    _______\n",
    "---'   ____)____\n",
    "          ______)\n",
    "       __________)\n",
    "      (____)\n",
    "---.__(___)\n",
    "'''\n",
    "\n",
    "#Write your code below this line 👇\n",
    "game_image = [rock, paper, scissors]\n",
    "user_choice = int(input(\"What do you choose ? \\n Type 0 for Rock, 1 for Paper or 2 for Scissors :\\n \"))\n",
    "if user_choice >= 3 or user_choice < 0:\n",
    "    print(\"You typed an invalid number\")\n",
    "else:\n",
    "    print(\"You have choosen: \")\n",
    "    print(game_image[user_choice])\n",
    "\n",
    "    computer_choice = random.randint(0,2)\n",
    "    print(\"Computer Choose: \")\n",
    "    print(game_image[computer_choice])\n",
    "\n",
    "    print(f\"Computer choose : {computer_choice}\")\n",
    "\n",
    "    if user_choice == 0 and computer_choice == 2:\n",
    "        print(\"I Win\")\n",
    "    elif computer_choice == 0 and user_choice == 2:\n",
    "        print(\"You Loose\")\n",
    "    elif computer_choice > user_choice:\n",
    "        print(\"You Loose\")\n",
    "    elif user_choice > computer_choice:\n",
    "        print(\"I win\")\n",
    "    elif computer_choice == user_choice:\n",
    "        print(\"DRAW\")\n"
   ]
  },
  {
   "cell_type": "code",
   "execution_count": null,
   "id": "e176ecee",
   "metadata": {},
   "outputs": [],
   "source": []
  },
  {
   "cell_type": "code",
   "execution_count": null,
   "id": "6806b04a",
   "metadata": {},
   "outputs": [],
   "source": []
  }
 ],
 "metadata": {
  "kernelspec": {
   "display_name": "Python 3 (ipykernel)",
   "language": "python",
   "name": "python3"
  },
  "language_info": {
   "codemirror_mode": {
    "name": "ipython",
    "version": 3
   },
   "file_extension": ".py",
   "mimetype": "text/x-python",
   "name": "python",
   "nbconvert_exporter": "python",
   "pygments_lexer": "ipython3",
   "version": "3.11.3"
  }
 },
 "nbformat": 4,
 "nbformat_minor": 5
}
