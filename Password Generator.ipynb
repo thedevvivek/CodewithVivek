{
 "cells": [
  {
   "cell_type": "code",
   "execution_count": 5,
   "id": "5c36fcca",
   "metadata": {},
   "outputs": [
    {
     "name": "stdout",
     "output_type": "stream",
     "text": [
      "Welcome to the PyPassword Generator!\n",
      "How many letters would you like in your password?\n",
      "4\n",
      "How many symbols would you like?\n",
      "3\n",
      "How many numbers would you like?\n",
      "2\n",
      "ySGK164%!\n"
     ]
    }
   ],
   "source": [
    "#Password Generator Project\n",
    "import random\n",
    "letters = ['a', 'b', 'c', 'd', 'e', 'f', 'g', 'h', 'i', 'j', 'k', 'l', 'm', 'n', 'o', 'p', 'q', 'r', 's', 't', 'u', 'v', 'w', 'x', 'y', 'z', 'A', 'B', 'C', 'D', 'E', 'F', 'G', 'H', 'I', 'J', 'K', 'L', 'M', 'N', 'O', 'P', 'Q', 'R', 'S', 'T', 'U', 'V', 'W', 'X', 'Y', 'Z']\n",
    "numbers = ['0', '1', '2', '3', '4', '5', '6', '7', '8', '9']\n",
    "symbols = ['!', '#', '$', '%', '&', '(', ')', '*', '+']\n",
    "\n",
    "print(\"Welcome to the PyPassword Generator!\")\n",
    "nr_letters= int(input(\"How many letters would you like in your password?\\n\")) \n",
    "nr_symbols = int(input(f\"How many symbols would you like?\\n\"))\n",
    "nr_numbers = int(input(f\"How many numbers would you like?\\n\"))\n",
    "\n",
    "#Eazy Level - Order not randomised:\n",
    "#e.g. 4 letter, 2 symbol, 2 number = JduE&!91\n",
    "password = \"\"\n",
    "#nr_letters = 4\n",
    "for char in range(1,nr_letters + 1):\n",
    "    password +=random.choice(letters)\n",
    "    \n",
    "for char in range(1,nr_symbols + 1):\n",
    "    password +=random.choice(numbers)\n",
    "    \n",
    "for char in range(1,nr_numbers + 1):\n",
    "    password +=random.choice(symbols)\n",
    "print(password)\n",
    "    \n",
    "    \n",
    "\n",
    "\n",
    "\n",
    "\n"
   ]
  },
  {
   "cell_type": "code",
   "execution_count": 11,
   "id": "d799c51d",
   "metadata": {},
   "outputs": [
    {
     "name": "stdout",
     "output_type": "stream",
     "text": [
      "['M', 'K', 'c', 'H', '0', '9', '1', '#', '%']\n",
      "['%', 'H', 'M', '0', '9', '#', 'c', '1', 'K']\n",
      "Your password is :%HM09#c1K\n"
     ]
    }
   ],
   "source": [
    "#Hard Level - Order of characters randomised:\n",
    "#e.g. 4 letter, 2 symbol, 2 number = g^2jk8&P\n",
    "\n",
    "password_list = []\n",
    "\n",
    "for char in range(1,nr_letters + 1):\n",
    "    password_list.append(random.choice(letters))\n",
    "    \n",
    "for char in range(1,nr_symbols + 1):\n",
    "    password_list +=random.choice(numbers)\n",
    "    \n",
    "for char in range(1,nr_numbers + 1):\n",
    "    password_list +=random.choice(symbols)\n",
    "\n",
    "print(password_list)\n",
    "random.shuffle(password_list)\n",
    "print(password_list)\n",
    "\n",
    "password=''\n",
    "for char in password_list:\n",
    "    password+=char\n",
    "print(f\"Your password is :{password}\")"
   ]
  },
  {
   "cell_type": "code",
   "execution_count": null,
   "id": "5c118dc3",
   "metadata": {},
   "outputs": [],
   "source": []
  }
 ],
 "metadata": {
  "kernelspec": {
   "display_name": "Python 3 (ipykernel)",
   "language": "python",
   "name": "python3"
  },
  "language_info": {
   "codemirror_mode": {
    "name": "ipython",
    "version": 3
   },
   "file_extension": ".py",
   "mimetype": "text/x-python",
   "name": "python",
   "nbconvert_exporter": "python",
   "pygments_lexer": "ipython3",
   "version": "3.11.3"
  }
 },
 "nbformat": 4,
 "nbformat_minor": 5
}
