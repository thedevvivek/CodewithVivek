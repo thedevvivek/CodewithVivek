{
 "cells": [
  {
   "cell_type": "code",
   "execution_count": 26,
   "id": "8e080e87",
   "metadata": {},
   "outputs": [
    {
     "name": "stdout",
     "output_type": "stream",
     "text": [
      "Input a list of student heights180 124 165 173 189 169 146\n",
      "[180, 124, 165, 173, 189, 169, 146]\n",
      "1146\n",
      "7\n",
      "The average height of student is : 164\n"
     ]
    }
   ],
   "source": [
    "# Day 5 - 100 Days Coding Challenge\n",
    "#Average Height of Students\n",
    "\n",
    "student_heights = input(\"Input a list of student heights\").split()\n",
    "for n in range(0,len(student_heights)):\n",
    "    student_heights[n] = int(student_heights[n])\n",
    "print(student_heights)\n",
    "\n",
    "# [180 124 165 173 189 169 146]\n",
    "\n",
    "total_height = 0\n",
    "for height in student_heights:\n",
    "    total_height += height\n",
    "print(total_height)\n",
    "\n",
    "no_of_student = 0\n",
    "for student in student_heights:\n",
    "    no_of_student +=1\n",
    "print(no_of_student)\n",
    "\n",
    "average_height=round((total_height / no_of_student))\n",
    "print(f\"The average height of student is : {average_height}\")\n"
   ]
  },
  {
   "cell_type": "code",
   "execution_count": 34,
   "id": "4c6e3860",
   "metadata": {},
   "outputs": [
    {
     "name": "stdout",
     "output_type": "stream",
     "text": [
      "Input a list of student scores78 65 89 86 55 91 64 89\n",
      "[78, 65, 89, 86, 55, 91, 64, 89]\n",
      "The highest score is : 91\n"
     ]
    }
   ],
   "source": [
    "# Average Scores\n",
    "# 78 65 89 86 55 91 64 89\n",
    "student_scores = input(\"Input a list of student scores\").split()\n",
    "for n in range(0,len(student_scores)):\n",
    "    student_scores[n] = int(student_scores[n])\n",
    "print(student_scores)\n",
    "\n",
    "max_marks=0\n",
    "for mark in student_scores:\n",
    "    if mark > max_marks:\n",
    "        max_marks = mark\n",
    "print(f\"The highest score is : {max_marks}\")"
   ]
  },
  {
   "cell_type": "code",
   "execution_count": null,
   "id": "fa4f4a49",
   "metadata": {},
   "outputs": [],
   "source": []
  }
 ],
 "metadata": {
  "kernelspec": {
   "display_name": "Python 3 (ipykernel)",
   "language": "python",
   "name": "python3"
  },
  "language_info": {
   "codemirror_mode": {
    "name": "ipython",
    "version": 3
   },
   "file_extension": ".py",
   "mimetype": "text/x-python",
   "name": "python",
   "nbconvert_exporter": "python",
   "pygments_lexer": "ipython3",
   "version": "3.11.3"
  }
 },
 "nbformat": 4,
 "nbformat_minor": 5
}
